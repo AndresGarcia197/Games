{
 "cells": [
  {
   "cell_type": "markdown",
   "id": "4711813a",
   "metadata": {},
   "source": [
    "# Juego del Ahorcado"
   ]
  },
  {
   "cell_type": "markdown",
   "id": "e5f6f247",
   "metadata": {},
   "source": [
    "--- Es necesario primero cargar la base de datos con las palabras que se incluiran en el juego ---"
   ]
  },
  {
   "cell_type": "code",
   "execution_count": 1,
   "id": "44946476",
   "metadata": {},
   "outputs": [],
   "source": [
    "import pandas as pd\n",
    "import numpy as np"
   ]
  },
  {
   "cell_type": "code",
   "execution_count": 2,
   "id": "ec7192db",
   "metadata": {},
   "outputs": [],
   "source": [
    "arch ='palabras.csv'\n",
    "df = pd.read_csv(arch, header=0)\n"
   ]
  },
  {
   "cell_type": "markdown",
   "id": "037d2e11",
   "metadata": {},
   "source": [
    "--- Ahora el usuario debe seleccionar el nivel a jugar ---"
   ]
  },
  {
   "cell_type": "code",
   "execution_count": 3,
   "id": "1ee5e9ed",
   "metadata": {},
   "outputs": [
    {
     "name": "stdout",
     "output_type": "stream",
     "text": [
      "Seleccione el nivel que desea jugar: Facil(0), Medio(1), Dificil(2)\n",
      "0\n",
      "A seleccionado el nivel 0\n"
     ]
    }
   ],
   "source": [
    "c = 0\n",
    "print('Seleccione el nivel que desea jugar: Facil(0), Medio(1), Dificil(2)')\n",
    "while c == 0:\n",
    "\n",
    "    level = int(input())\n",
    "    if (0<=level<=2):\n",
    "        print(f'A seleccionado el nivel {level}')\n",
    "        c=1\n",
    "    else:\n",
    "        print('el nivel seleccionado debe ser 0, 1 o 2')\n",
    "        c = 0"
   ]
  },
  {
   "cell_type": "code",
   "execution_count": 4,
   "id": "5ea257a7",
   "metadata": {},
   "outputs": [],
   "source": [
    "pmax=len(df)\n",
    "wrow = np.random.randint(0,pmax)\n",
    "gw = df.loc[wrow][level]"
   ]
  },
  {
   "cell_type": "code",
   "execution_count": 5,
   "id": "1062d713",
   "metadata": {},
   "outputs": [],
   "source": [
    "def hang(wrans):\n",
    "    if wrans == 0:\n",
    "        print('------,')\n",
    "        print('|')\n",
    "        print('|')\n",
    "        print('|')\n",
    "    elif wrans == 1:\n",
    "        print('------,')\n",
    "        print('|     O')\n",
    "        print('|')\n",
    "        print('|')\n",
    "    elif wrans == 2:\n",
    "        print('------,')\n",
    "        print('|     O')\n",
    "        print('|    /|')\n",
    "        print('|')\n",
    "    elif wrans == 3:\n",
    "        print('------,')\n",
    "        print('|     O')\n",
    "        print('|    /|\\  ')\n",
    "        print('|')\n",
    "    elif wrans == 4:\n",
    "        print('------,')\n",
    "        print('|     O')\n",
    "        print('|    /|\\  ')\n",
    "        print('|    /¯')\n",
    "    elif wrans == 5:\n",
    "        print('------,')\n",
    "        print('|     O')\n",
    "        print('|    /|\\  ')\n",
    "        print('|    /¯\\  ')\n",
    "    elif wrans == 6:\n",
    "        print('♪♫♪♫♪♫♪♫♪♫♪♫♪♫♪♫')\n",
    "        print('       ☺/')\n",
    "        print('      /|  ')\n",
    "        print('      /¯\\  ')\n",
    "        print('♪♫♪♫♪♫♪♫♪♫♪♫♪♫♪♫')\n",
    "    elif wrans == 7:\n",
    "        print('')\n",
    "        print('     ¯(xx)')\n",
    "        print('      /|\\ ')\n",
    "        print('      /¯\\  ')"
   ]
  },
  {
   "cell_type": "code",
   "execution_count": 6,
   "id": "f1cd6a81",
   "metadata": {},
   "outputs": [],
   "source": [
    "def rsolv(lett, word, ul):\n",
    "    rep = word.count(lett)\n",
    "    if(rep > 0):\n",
    "        for j in range(0,len(word)):\n",
    "            if word[j] == lett:\n",
    "                ul = ul[0:j]+ ul[j:].replace(ul[j], lett,1)\n",
    "            else:\n",
    "                ul = ul\n",
    "    else:\n",
    "        print(f'La letra {lett} no aparece en la palabra')\n",
    "        \n",
    "    return ul"
   ]
  },
  {
   "cell_type": "code",
   "execution_count": 7,
   "id": "64e6a96b",
   "metadata": {},
   "outputs": [
    {
     "name": "stdout",
     "output_type": "stream",
     "text": [
      "Respuesta: a\n",
      "------,\n",
      "|\n",
      "|\n",
      "|\n",
      "_____a__\n",
      "letras usadas: ['a']\n",
      "---------------------\n",
      "Respuesta: e\n",
      "La letra e no aparece en la palabra\n",
      "------,\n",
      "|     O\n",
      "|\n",
      "|\n",
      "_____a__\n",
      "letras usadas: ['a', 'e']\n",
      "---------------------\n",
      "Respuesta: r\n",
      "------,\n",
      "|     O\n",
      "|\n",
      "|\n",
      "___r_a__\n",
      "letras usadas: ['a', 'e', 'r']\n",
      "---------------------\n",
      "Respuesta: i\n",
      "La letra i no aparece en la palabra\n",
      "------,\n",
      "|     O\n",
      "|    /|\n",
      "|\n",
      "___r_a__\n",
      "letras usadas: ['a', 'e', 'i', 'r']\n",
      "---------------------\n",
      "Respuesta: u\n",
      "La letra u no aparece en la palabra\n",
      "------,\n",
      "|     O\n",
      "|    /|\\  \n",
      "|\n",
      "___r_a__\n",
      "letras usadas: ['a', 'e', 'i', 'r', 'u']\n",
      "---------------------\n",
      "Respuesta: o\n",
      "------,\n",
      "|     O\n",
      "|    /|\\  \n",
      "|\n",
      "__or_a_o\n",
      "letras usadas: ['a', 'e', 'i', 'o', 'r', 'u']\n",
      "---------------------\n",
      "Respuesta: b\n",
      "La letra b no aparece en la palabra\n",
      "------,\n",
      "|     O\n",
      "|    /|\\  \n",
      "|    /¯\n",
      "__or_a_o\n",
      "letras usadas: ['a', 'b', 'e', 'i', 'o', 'r', 'u']\n",
      "---------------------\n",
      "Respuesta: d\n",
      "------,\n",
      "|     O\n",
      "|    /|\\  \n",
      "|    /¯\n",
      "__or_ado\n",
      "letras usadas: ['a', 'b', 'd', 'e', 'i', 'o', 'r', 'u']\n",
      "---------------------\n",
      "Respuesta: A\n",
      "------,\n",
      "|     O\n",
      "|    /|\\  \n",
      "|    /¯\n",
      "A_or_ado\n",
      "letras usadas: ['A', 'a', 'b', 'd', 'e', 'i', 'o', 'r', 'u']\n",
      "---------------------\n",
      "Respuesta: h\n",
      "------,\n",
      "|     O\n",
      "|    /|\\  \n",
      "|    /¯\n",
      "Ahor_ado\n",
      "letras usadas: ['A', 'a', 'b', 'd', 'e', 'h', 'i', 'o', 'r', 'u']\n",
      "---------------------\n",
      "Respuesta: c\n",
      "¡Felicidades! Ganaste el juego\n",
      "♪♫♪♫♪♫♪♫♪♫♪♫♪♫♪♫\n",
      "       ☺/\n",
      "      /|  \n",
      "      /¯\\  \n",
      "♪♫♪♫♪♫♪♫♪♫♪♫♪♫♪♫\n",
      "Ahorcado\n",
      "letras usadas: ['A', 'a', 'b', 'c', 'd', 'e', 'h', 'i', 'o', 'r', 'u']\n",
      "---------------------\n"
     ]
    }
   ],
   "source": [
    "wa = 0 \n",
    "ul1 = ''\n",
    "for i in range(0,len(gw)):\n",
    "    ul1 = ul1 + '_' \n",
    "    \n",
    "lused = ''\n",
    "    \n",
    "while wa <= 5:\n",
    "    if wa < 5:\n",
    "        gg = input('Respuesta: ')\n",
    "        repl = lused.count(gg)\n",
    "        if len(gg) ==1:\n",
    "            if repl ==0:\n",
    "                lused = lused + gg\n",
    "                ul =ul1\n",
    "                ul1 = rsolv(gg, gw, ul)\n",
    "                if ul1 == ul:\n",
    "                   wa = wa+1\n",
    "                elif ul1 == gw:\n",
    "                    print('¡Felicidades! Ganaste el juego')\n",
    "                    wa = 6\n",
    "                hang(wa)\n",
    "                print(ul1)\n",
    "                slused = sorted(lused)\n",
    "                print(f'letras usadas: {slused}')\n",
    "                print('---------------------')\n",
    "            else:\n",
    "                print('Ya se utilizo esa letra')\n",
    "        else:\n",
    "            print('Solo una letra por intento')\n",
    "    elif wa==5:\n",
    "        print(f'PERDISTE :( La palabra era: {gw}')\n",
    "        wa = 7\n",
    "        hang(wa)\n",
    "        "
   ]
  },
  {
   "cell_type": "code",
   "execution_count": 41,
   "id": "1a871490",
   "metadata": {},
   "outputs": [],
   "source": []
  },
  {
   "cell_type": "code",
   "execution_count": null,
   "id": "ff6408bd",
   "metadata": {},
   "outputs": [],
   "source": []
  }
 ],
 "metadata": {
  "kernelspec": {
   "display_name": "Python 3 (ipykernel)",
   "language": "python",
   "name": "python3"
  },
  "language_info": {
   "codemirror_mode": {
    "name": "ipython",
    "version": 3
   },
   "file_extension": ".py",
   "mimetype": "text/x-python",
   "name": "python",
   "nbconvert_exporter": "python",
   "pygments_lexer": "ipython3",
   "version": "3.9.7"
  }
 },
 "nbformat": 4,
 "nbformat_minor": 5
}
